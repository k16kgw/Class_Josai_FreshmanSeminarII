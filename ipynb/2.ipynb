{
 "cells": [
  {
   "cell_type": "markdown",
   "id": "ba189637",
   "metadata": {},
   "source": []
  },
  {
   "cell_type": "code",
   "execution_count": null,
   "id": "6f9bea2c",
   "metadata": {},
   "outputs": [
    {
     "name": "stdout",
     "output_type": "stream",
     "text": [
      "1\n",
      "3\n",
      "5\n",
      "[2, 3]\n"
     ]
    }
   ],
   "source": [
    "# 空のリスト\n",
    "b = []\n",
    "\n",
    "# 初期値を持つリスト\n",
    "a = [1, 2, 3, 4, 5]\n",
    "\n",
    "# 要素へのアクセス（0から始まる）\n",
    "print(a[0])  # 1\n",
    "print(a[2])  # 3\n",
    "print(a[-1]) # 5（末尾）\n",
    "print(a[1:3])# [2, 3]\n"
   ]
  },
  {
   "cell_type": "code",
   "execution_count": 5,
   "id": "d93695a9",
   "metadata": {},
   "outputs": [
    {
     "name": "stdout",
     "output_type": "stream",
     "text": [
      "香川 さんの点数は 85 点です。\n"
     ]
    }
   ],
   "source": [
    "name = \"香川\"\n",
    "score = 85\n",
    "print(name, \"さんの点数は\", score, \"点です。\")\n"
   ]
  },
  {
   "cell_type": "code",
   "execution_count": 3,
   "id": "8badcc9e",
   "metadata": {},
   "outputs": [
    {
     "name": "stdout",
     "output_type": "stream",
     "text": [
      "ピカチュウ（ポケットモンスター）のBMIは37.49999999999999です．\n"
     ]
    }
   ],
   "source": [
    "target = \"ピカチュウ（ポケットモンスター）\"\n",
    "weight = 6.0\n",
    "height = 0.4\n",
    "BMI = weight / height**2\n",
    "print(f\"{target}のBMIは{BMI}です．\")"
   ]
  }
 ],
 "metadata": {
  "kernelspec": {
   "display_name": "base",
   "language": "python",
   "name": "python3"
  },
  "language_info": {
   "codemirror_mode": {
    "name": "ipython",
    "version": 3
   },
   "file_extension": ".py",
   "mimetype": "text/x-python",
   "name": "python",
   "nbconvert_exporter": "python",
   "pygments_lexer": "ipython3",
   "version": "3.13.7"
  }
 },
 "nbformat": 4,
 "nbformat_minor": 5
}
