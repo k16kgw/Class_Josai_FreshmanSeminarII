{
 "cells": [
  {
   "cell_type": "code",
   "execution_count": 1,
   "id": "8badcc9e",
   "metadata": {},
   "outputs": [
    {
     "name": "stdout",
     "output_type": "stream",
     "text": [
      "ピカチュウ（ポケットモンスター）のBMIは37.49999999999999です．\n"
     ]
    }
   ],
   "source": [
    "target = \"ピカチュウ（ポケットモンスター）\"\n",
    "weight = 6.0\n",
    "height = 0.4\n",
    "BMI = weight / height**2\n",
    "print(f\"{target}のBMIは{BMI}です．\")"
   ]
  }
 ],
 "metadata": {
  "kernelspec": {
   "display_name": "base",
   "language": "python",
   "name": "python3"
  },
  "language_info": {
   "codemirror_mode": {
    "name": "ipython",
    "version": 3
   },
   "file_extension": ".py",
   "mimetype": "text/x-python",
   "name": "python",
   "nbconvert_exporter": "python",
   "pygments_lexer": "ipython3",
   "version": "3.13.2"
  }
 },
 "nbformat": 4,
 "nbformat_minor": 5
}