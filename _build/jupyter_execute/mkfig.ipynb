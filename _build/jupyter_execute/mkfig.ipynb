{
 "cells": [
  {
   "cell_type": "code",
   "execution_count": 1,
   "id": "103c1c3f",
   "metadata": {},
   "outputs": [
    {
     "ename": "ModuleNotFoundError",
     "evalue": "No module named 'matplotlib'",
     "output_type": "error",
     "traceback": [
      "\u001b[31m---------------------------------------------------------------------------\u001b[39m",
      "\u001b[31mModuleNotFoundError\u001b[39m                       Traceback (most recent call last)",
      "\u001b[36mCell\u001b[39m\u001b[36m \u001b[39m\u001b[32mIn[1]\u001b[39m\u001b[32m, line 1\u001b[39m\n\u001b[32m----> \u001b[39m\u001b[32m1\u001b[39m \u001b[38;5;28;01mimport\u001b[39;00m\u001b[38;5;250m \u001b[39m\u001b[34;01mmatplotlib\u001b[39;00m\u001b[34;01m.\u001b[39;00m\u001b[34;01mpyplot\u001b[39;00m\u001b[38;5;250m \u001b[39m\u001b[38;5;28;01mas\u001b[39;00m\u001b[38;5;250m \u001b[39m\u001b[34;01mplt\u001b[39;00m\n\u001b[32m      2\u001b[39m \u001b[38;5;28;01mfrom\u001b[39;00m\u001b[38;5;250m \u001b[39m\u001b[34;01mmatplotlib\u001b[39;00m\u001b[34;01m.\u001b[39;00m\u001b[34;01mpatches\u001b[39;00m\u001b[38;5;250m \u001b[39m\u001b[38;5;28;01mimport\u001b[39;00m Rectangle\n\u001b[32m      3\u001b[39m \u001b[38;5;28;01mfrom\u001b[39;00m\u001b[38;5;250m \u001b[39m\u001b[34;01mmatplotlib\u001b[39;00m\u001b[38;5;250m \u001b[39m\u001b[38;5;28;01mimport\u001b[39;00m rcParams\n",
      "\u001b[31mModuleNotFoundError\u001b[39m: No module named 'matplotlib'"
     ]
    }
   ],
   "source": [
    "import matplotlib.pyplot as plt\n",
    "from matplotlib.patches import Rectangle\n",
    "from matplotlib import rcParams\n",
    "\n",
    "rcParams[\"font.family\"] = \"sans-serif\"\n",
    "rcParams[\"font.sans-serif\"] = [\"Meiryo\"]\n",
    "\n",
    "# 描画サイズ\n",
    "fig, ax = plt.subplots(figsize=(8,6))\n",
    "\n",
    "# 中央のCPU（制御装置＋演算装置）\n",
    "ax.add_patch(Rectangle((3,3.5), 2, 1, edgecolor=\"black\", facecolor=\"#f2f2f2\"))\n",
    "ax.text(4, 4, \"制御装置\", ha=\"center\", va=\"center\", fontsize=12)\n",
    "ax.add_patch(Rectangle((3,2), 2, 1, edgecolor=\"black\", facecolor=\"#f2f2f2\"))\n",
    "ax.text(4, 2.5, \"演算装置\", ha=\"center\", va=\"center\", fontsize=12)\n",
    "ax.text(4, 4.8, \"CPU\", ha=\"center\", va=\"bottom\", fontsize=13, fontweight=\"bold\")\n",
    "\n",
    "# 記憶装置\n",
    "ax.add_patch(Rectangle((0.5,3), 2, 1.5, edgecolor=\"black\", facecolor=\"#d9eaf7\"))\n",
    "ax.text(1.5, 3.75, \"記憶装置\", ha=\"center\", va=\"center\", fontsize=12)\n",
    "\n",
    "# 入力装置\n",
    "ax.add_patch(Rectangle((3,6), 2, 1, edgecolor=\"black\", facecolor=\"#dff0d8\"))\n",
    "ax.text(4, 6.5, \"入力装置\", ha=\"center\", va=\"center\", fontsize=12)\n",
    "\n",
    "# 出力装置\n",
    "ax.add_patch(Rectangle((3,0.5), 2, 1, edgecolor=\"black\", facecolor=\"#f9e2d2\"))\n",
    "ax.text(4, 1, \"出力装置\", ha=\"center\", va=\"center\", fontsize=12)\n",
    "\n",
    "# 矢印\n",
    "arrow_args = dict(arrowstyle=\"->\", color=\"black\", lw=1.5)\n",
    "ax.annotate(\"\", xy=(3,4.25), xytext=(2.5,4.25), arrowprops=arrow_args) # CPU→記憶装置\n",
    "ax.annotate(\"\", xy=(2.5,4.25), xytext=(3,4.25), arrowprops=arrow_args) # 記憶装置→CPU\n",
    "\n",
    "ax.annotate(\"\", xy=(4,6), xytext=(4,5), arrowprops=arrow_args) # 入力→CPU\n",
    "ax.annotate(\"\", xy=(4,5), xytext=(4,6), arrowprops=arrow_args) # CPU→入力\n",
    "\n",
    "ax.annotate(\"\", xy=(4,2), xytext=(4,1.5), arrowprops=arrow_args) # CPU→出力\n",
    "ax.annotate(\"\", xy=(4,1.5), xytext=(4,2), arrowprops=arrow_args) # 出力→CPU\n",
    "\n",
    "# 軸非表示\n",
    "ax.set_xlim(0,7)\n",
    "ax.set_ylim(0,8)\n",
    "ax.axis(\"off\")\n",
    "\n",
    "plt.show()\n"
   ]
  },
  {
   "cell_type": "code",
   "execution_count": 10,
   "id": "d3209131",
   "metadata": {},
   "outputs": [
    {
     "data": {
      "text/plain": [
       "'/opt/homebrew/Caskroom/miniconda/base/lib/python3.13/site-packages/matplotlib/mpl-data/matplotlibrc'"
      ]
     },
     "execution_count": 10,
     "metadata": {},
     "output_type": "execute_result"
    }
   ],
   "source": [
    "import matplotlib as mpl\n",
    "mpl.matplotlib_fname()"
   ]
  },
  {
   "cell_type": "code",
   "execution_count": null,
   "id": "738f6a9b",
   "metadata": {},
   "outputs": [],
   "source": []
  }
 ],
 "metadata": {
  "kernelspec": {
   "display_name": "base",
   "language": "python",
   "name": "python3"
  },
  "language_info": {
   "codemirror_mode": {
    "name": "ipython",
    "version": 3
   },
   "file_extension": ".py",
   "mimetype": "text/x-python",
   "name": "python",
   "nbconvert_exporter": "python",
   "pygments_lexer": "ipython3",
   "version": "3.13.2"
  }
 },
 "nbformat": 4,
 "nbformat_minor": 5
}